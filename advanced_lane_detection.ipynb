{
 "cells": [
  {
   "cell_type": "code",
   "execution_count": null,
   "metadata": {
    "collapsed": true
   },
   "outputs": [],
   "source": [
    "from utils import *\n",
    "import numpy as np\n",
    "import cv2\n",
    "import matplotlib.pyplot as plt\n",
    "import matplotlib.image as mpimg\n",
    "import os\n",
    "from os import listdir, sep\n",
    "from os.path import isfile, join\n",
    "import glob"
   ]
  },
  {
   "cell_type": "code",
   "execution_count": null,
   "metadata": {},
   "outputs": [],
   "source": [
    "test_images = [cv2.imread(i) for i in glob.glob('./test_images/*.jpg')]\n",
    "\n",
    "mtx,dist = camera_calibration.calibration_params()\n",
    "\n",
    "\n",
    "# View undistorted calibration image\n",
    "img = cv2.imread(\"camera_cal/calibration4.jpg\")\n",
    "fig,(ax1,ax2) = plt.subplots(1,2,figsize = (16,4))\n",
    "ax1.imshow(img)\n",
    "ax1.set_title('original image',fontsize=20)\n",
    "ax2.imshow(undistort(img,mtx,dist))\n",
    "ax2.set_title('undistorted mage',fontsize=20)\n",
    "plt.show()\n",
    "\n",
    "# View undistorted test image\n",
    "img = test_images[0]\n",
    "fig,(ax1,ax2) = plt.subplots(1,2,figsize = (16,4))\n",
    "ax1.imshow(img, cmap=\"gray\")\n",
    "ax1.set_title('original image',fontsize=20)\n",
    "ax2.imshow(undistort(img,mtx,dist), cmap=\"gray\")\n",
    "ax2.set_title('undistorted mage',fontsize=20)\n",
    "plt.show()"
   ]
  }
 ],
 "metadata": {
  "kernelspec": {
   "display_name": "Python 2",
   "language": "python",
   "name": "python2"
  },
  "language_info": {
   "codemirror_mode": {
    "name": "ipython",
    "version": 2.0
   },
   "file_extension": ".py",
   "mimetype": "text/x-python",
   "name": "python",
   "nbconvert_exporter": "python",
   "pygments_lexer": "ipython2",
   "version": "2.7.6"
  }
 },
 "nbformat": 4,
 "nbformat_minor": 0
}